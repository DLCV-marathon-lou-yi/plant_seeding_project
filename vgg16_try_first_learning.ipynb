{
 "cells": [
  {
   "cell_type": "markdown",
   "metadata": {},
   "source": [
    "##### 1.建構第一個網路，比較VGG16與簡易自薦模型的差異性。\n",
    "##### 2. data preprocess 練習\n",
    "##### 3.KAGGLE Plant Seedlings Classification:https://www.kaggle.com/c/plant-seedlings-classification/overview\n",
    "##### 4. epoch=100 左右效果最佳\n",
    "##### 5. 目標:繼續提高準確率到90%(當前84.5%左右)\n",
    "#### 6. regularization,activation function 選擇注意"
   ]
  },
  {
   "cell_type": "markdown",
   "metadata": {
    "colab_type": "text",
    "id": "5U47_oQ5T5nt"
   },
   "source": [
    " # change path(for google Colab)"
   ]
  },
  {
   "cell_type": "code",
   "execution_count": null,
   "metadata": {
    "colab": {},
    "colab_type": "code",
    "id": "c6HOEseETj6U"
   },
   "outputs": [],
   "source": [
    "!apt-get install -y -qq software-properties-common python-software-properties module-init-tools\n",
    "!add-apt-repository -y ppa:alessandro-strada/ppa 2>&1 > /dev/null\n",
    "!apt-get update -qq 2>&1 > /dev/null\n",
    "!apt-get -y install -qq google-drive-ocamlfuse fuse\n",
    "from google.colab import auth\n",
    "auth.authenticate_user()\n",
    "from oauth2client.client import GoogleCredentials\n",
    "creds = GoogleCredentials.get_application_default()\n",
    "import getpass\n",
    "!google-drive-ocamlfuse -headless -id={creds.client_id} -secret={creds.client_secret} < /dev/null 2>&1 | grep URL\n",
    "vcode = getpass.getpass()\n",
    "!echo {vcode} | google-drive-ocamlfuse -headless -id={creds.client_id} -secret={creds.client_secret}"
   ]
  },
  {
   "cell_type": "code",
   "execution_count": null,
   "metadata": {
    "colab": {},
    "colab_type": "code",
    "id": "rIBhVG9rT2TD"
   },
   "outputs": [],
   "source": [
    "!mkdir -p drive"
   ]
  },
  {
   "cell_type": "code",
   "execution_count": null,
   "metadata": {
    "colab": {},
    "colab_type": "code",
    "id": "u2hQ1_4S0bRO"
   },
   "outputs": [],
   "source": [
    "!pip uninstall tensorflow"
   ]
  },
  {
   "cell_type": "code",
   "execution_count": null,
   "metadata": {
    "colab": {},
    "colab_type": "code",
    "id": "jGcksqs90dlp"
   },
   "outputs": [],
   "source": [
    "!pip install tensorflow-gpu "
   ]
  },
  {
   "cell_type": "code",
   "execution_count": 1,
   "metadata": {
    "colab": {},
    "colab_type": "code",
    "id": "jFc5jtlY0r-p"
   },
   "outputs": [
    {
     "name": "stderr",
     "output_type": "stream",
     "text": [
      "D:\\Users\\u9593\\Anaconda3\\envs\\tensorflow-gpu\\lib\\site-packages\\tensorflow\\python\\framework\\dtypes.py:516: FutureWarning: Passing (type, 1) or '1type' as a synonym of type is deprecated; in a future version of numpy, it will be understood as (type, (1,)) / '(1,)type'.\n",
      "  _np_qint8 = np.dtype([(\"qint8\", np.int8, 1)])\n",
      "D:\\Users\\u9593\\Anaconda3\\envs\\tensorflow-gpu\\lib\\site-packages\\tensorflow\\python\\framework\\dtypes.py:517: FutureWarning: Passing (type, 1) or '1type' as a synonym of type is deprecated; in a future version of numpy, it will be understood as (type, (1,)) / '(1,)type'.\n",
      "  _np_quint8 = np.dtype([(\"quint8\", np.uint8, 1)])\n",
      "D:\\Users\\u9593\\Anaconda3\\envs\\tensorflow-gpu\\lib\\site-packages\\tensorflow\\python\\framework\\dtypes.py:518: FutureWarning: Passing (type, 1) or '1type' as a synonym of type is deprecated; in a future version of numpy, it will be understood as (type, (1,)) / '(1,)type'.\n",
      "  _np_qint16 = np.dtype([(\"qint16\", np.int16, 1)])\n",
      "D:\\Users\\u9593\\Anaconda3\\envs\\tensorflow-gpu\\lib\\site-packages\\tensorflow\\python\\framework\\dtypes.py:519: FutureWarning: Passing (type, 1) or '1type' as a synonym of type is deprecated; in a future version of numpy, it will be understood as (type, (1,)) / '(1,)type'.\n",
      "  _np_quint16 = np.dtype([(\"quint16\", np.uint16, 1)])\n",
      "D:\\Users\\u9593\\Anaconda3\\envs\\tensorflow-gpu\\lib\\site-packages\\tensorflow\\python\\framework\\dtypes.py:520: FutureWarning: Passing (type, 1) or '1type' as a synonym of type is deprecated; in a future version of numpy, it will be understood as (type, (1,)) / '(1,)type'.\n",
      "  _np_qint32 = np.dtype([(\"qint32\", np.int32, 1)])\n",
      "D:\\Users\\u9593\\Anaconda3\\envs\\tensorflow-gpu\\lib\\site-packages\\tensorflow\\python\\framework\\dtypes.py:525: FutureWarning: Passing (type, 1) or '1type' as a synonym of type is deprecated; in a future version of numpy, it will be understood as (type, (1,)) / '(1,)type'.\n",
      "  np_resource = np.dtype([(\"resource\", np.ubyte, 1)])\n",
      "D:\\Users\\u9593\\Anaconda3\\envs\\tensorflow-gpu\\lib\\site-packages\\tensorboard\\compat\\tensorflow_stub\\dtypes.py:541: FutureWarning: Passing (type, 1) or '1type' as a synonym of type is deprecated; in a future version of numpy, it will be understood as (type, (1,)) / '(1,)type'.\n",
      "  _np_qint8 = np.dtype([(\"qint8\", np.int8, 1)])\n",
      "D:\\Users\\u9593\\Anaconda3\\envs\\tensorflow-gpu\\lib\\site-packages\\tensorboard\\compat\\tensorflow_stub\\dtypes.py:542: FutureWarning: Passing (type, 1) or '1type' as a synonym of type is deprecated; in a future version of numpy, it will be understood as (type, (1,)) / '(1,)type'.\n",
      "  _np_quint8 = np.dtype([(\"quint8\", np.uint8, 1)])\n",
      "D:\\Users\\u9593\\Anaconda3\\envs\\tensorflow-gpu\\lib\\site-packages\\tensorboard\\compat\\tensorflow_stub\\dtypes.py:543: FutureWarning: Passing (type, 1) or '1type' as a synonym of type is deprecated; in a future version of numpy, it will be understood as (type, (1,)) / '(1,)type'.\n",
      "  _np_qint16 = np.dtype([(\"qint16\", np.int16, 1)])\n",
      "D:\\Users\\u9593\\Anaconda3\\envs\\tensorflow-gpu\\lib\\site-packages\\tensorboard\\compat\\tensorflow_stub\\dtypes.py:544: FutureWarning: Passing (type, 1) or '1type' as a synonym of type is deprecated; in a future version of numpy, it will be understood as (type, (1,)) / '(1,)type'.\n",
      "  _np_quint16 = np.dtype([(\"quint16\", np.uint16, 1)])\n",
      "D:\\Users\\u9593\\Anaconda3\\envs\\tensorflow-gpu\\lib\\site-packages\\tensorboard\\compat\\tensorflow_stub\\dtypes.py:545: FutureWarning: Passing (type, 1) or '1type' as a synonym of type is deprecated; in a future version of numpy, it will be understood as (type, (1,)) / '(1,)type'.\n",
      "  _np_qint32 = np.dtype([(\"qint32\", np.int32, 1)])\n",
      "D:\\Users\\u9593\\Anaconda3\\envs\\tensorflow-gpu\\lib\\site-packages\\tensorboard\\compat\\tensorflow_stub\\dtypes.py:550: FutureWarning: Passing (type, 1) or '1type' as a synonym of type is deprecated; in a future version of numpy, it will be understood as (type, (1,)) / '(1,)type'.\n",
      "  np_resource = np.dtype([(\"resource\", np.ubyte, 1)])\n"
     ]
    },
    {
     "name": "stdout",
     "output_type": "stream",
     "text": [
      "1.14.0\n"
     ]
    }
   ],
   "source": [
    "import tensorflow as tf\n",
    "print(tf.__version__)\n"
   ]
  },
  {
   "cell_type": "code",
   "execution_count": null,
   "metadata": {
    "colab": {},
    "colab_type": "code",
    "id": "HmDeuTOwT1NN"
   },
   "outputs": [],
   "source": [
    "import os\n",
    "os.chdir(\"D:\\\\jupyter\\\\tensorflow\") #change path"
   ]
  },
  {
   "cell_type": "code",
   "execution_count": null,
   "metadata": {
    "colab": {},
    "colab_type": "code",
    "id": "ffqV_qoNUOUy"
   },
   "outputs": [],
   "source": [
    "!ls\n",
    "os.getcwd()"
   ]
  },
  {
   "cell_type": "markdown",
   "metadata": {
    "colab_type": "text",
    "id": "hO6sSkxRYI1n"
   },
   "source": [
    "# data prepocess"
   ]
  },
  {
   "cell_type": "code",
   "execution_count": 2,
   "metadata": {
    "colab": {},
    "colab_type": "code",
    "id": "3vN3mYH4UV0e"
   },
   "outputs": [
    {
     "data": {
      "text/html": [
       "<div>\n",
       "<style scoped>\n",
       "    .dataframe tbody tr th:only-of-type {\n",
       "        vertical-align: middle;\n",
       "    }\n",
       "\n",
       "    .dataframe tbody tr th {\n",
       "        vertical-align: top;\n",
       "    }\n",
       "\n",
       "    .dataframe thead th {\n",
       "        text-align: right;\n",
       "    }\n",
       "</style>\n",
       "<table border=\"1\" class=\"dataframe\">\n",
       "  <thead>\n",
       "    <tr style=\"text-align: right;\">\n",
       "      <th></th>\n",
       "      <th>file</th>\n",
       "      <th>species</th>\n",
       "    </tr>\n",
       "  </thead>\n",
       "  <tbody>\n",
       "    <tr>\n",
       "      <th>784</th>\n",
       "      <td>fda39e16f.png</td>\n",
       "      <td>Sugar beet</td>\n",
       "    </tr>\n",
       "    <tr>\n",
       "      <th>785</th>\n",
       "      <td>fdea6b119.png</td>\n",
       "      <td>Sugar beet</td>\n",
       "    </tr>\n",
       "    <tr>\n",
       "      <th>786</th>\n",
       "      <td>fe29629fb.png</td>\n",
       "      <td>Sugar beet</td>\n",
       "    </tr>\n",
       "    <tr>\n",
       "      <th>787</th>\n",
       "      <td>fe9e87b78.png</td>\n",
       "      <td>Sugar beet</td>\n",
       "    </tr>\n",
       "    <tr>\n",
       "      <th>788</th>\n",
       "      <td>fea1d13d6.png</td>\n",
       "      <td>Sugar beet</td>\n",
       "    </tr>\n",
       "    <tr>\n",
       "      <th>789</th>\n",
       "      <td>fea355851.png</td>\n",
       "      <td>Sugar beet</td>\n",
       "    </tr>\n",
       "    <tr>\n",
       "      <th>790</th>\n",
       "      <td>fea3da57c.png</td>\n",
       "      <td>Sugar beet</td>\n",
       "    </tr>\n",
       "    <tr>\n",
       "      <th>791</th>\n",
       "      <td>fef2ade8c.png</td>\n",
       "      <td>Sugar beet</td>\n",
       "    </tr>\n",
       "    <tr>\n",
       "      <th>792</th>\n",
       "      <td>ff65bc002.png</td>\n",
       "      <td>Sugar beet</td>\n",
       "    </tr>\n",
       "    <tr>\n",
       "      <th>793</th>\n",
       "      <td>ffc6f8527.png</td>\n",
       "      <td>Sugar beet</td>\n",
       "    </tr>\n",
       "  </tbody>\n",
       "</table>\n",
       "</div>"
      ],
      "text/plain": [
       "              file     species\n",
       "784  fda39e16f.png  Sugar beet\n",
       "785  fdea6b119.png  Sugar beet\n",
       "786  fe29629fb.png  Sugar beet\n",
       "787  fe9e87b78.png  Sugar beet\n",
       "788  fea1d13d6.png  Sugar beet\n",
       "789  fea355851.png  Sugar beet\n",
       "790  fea3da57c.png  Sugar beet\n",
       "791  fef2ade8c.png  Sugar beet\n",
       "792  ff65bc002.png  Sugar beet\n",
       "793  ffc6f8527.png  Sugar beet"
      ]
     },
     "execution_count": 2,
     "metadata": {},
     "output_type": "execute_result"
    }
   ],
   "source": [
    "import os\n",
    "import numpy as np\n",
    "import pandas as pd\n",
    "test_data_path = os.path.join(os.getcwd(),\"test\")\n",
    "train_data_path = os.path.join(os.getcwd(),\"train\")\n",
    "sample_submission = pd.read_csv(\"sample_submission.csv\")\n",
    "#check if csv read correct or not\n",
    "sample_submission.tail(10)\n"
   ]
  },
  {
   "cell_type": "code",
   "execution_count": 3,
   "metadata": {
    "colab": {},
    "colab_type": "code",
    "id": "D8ZRUWoQUb6T"
   },
   "outputs": [
    {
     "name": "stdout",
     "output_type": "stream",
     "text": [
      "Black-grass have 263 images\n",
      "Charlock have 390 images\n",
      "Cleavers have 287 images\n",
      "Common Chickweed have 611 images\n",
      "Common wheat have 221 images\n",
      "Fat Hen have 475 images\n",
      "Loose Silky-bent have 654 images\n",
      "Maize have 221 images\n",
      "Scentless Mayweed have 516 images\n",
      "Shepherds Purse have 231 images\n",
      "Small-flowered Cranesbill have 496 images\n",
      "Sugar beet have 385 images\n",
      "4750\n"
     ]
    }
   ],
   "source": [
    "#class def:\n",
    "class_plant = [\n",
    "                \"Black-grass\",\"Charlock\",\"Cleavers\",\"Common Chickweed\",\"Common wheat\",\"Fat Hen\",\n",
    "                \"Loose Silky-bent\",\"Maize\",\"Scentless Mayweed\",\"Shepherds Purse\",\"Small-flowered Cranesbill\",\"Sugar beet\"\n",
    "]\n",
    "class_num = len(class_plant)\n",
    "\n",
    "num_of_test_samples = 0\n",
    "\n",
    "#the disbution of data:\n",
    "for L in class_plant:\n",
    "    print(\"{} have {} images\".format(L, len(os.listdir(os.path.join(train_data_path,L))))) #os.listdir:取得所有檔案名稱\n",
    "    num_of_test_samples = num_of_test_samples+len(os.listdir(os.path.join(train_data_path,L)))\n",
    "print(num_of_test_samples)"
   ]
  },
  {
   "cell_type": "code",
   "execution_count": 4,
   "metadata": {
    "colab": {},
    "colab_type": "code",
    "id": "_mPPthiCUfKN"
   },
   "outputs": [
    {
     "data": {
      "text/html": [
       "<div>\n",
       "<style scoped>\n",
       "    .dataframe tbody tr th:only-of-type {\n",
       "        vertical-align: middle;\n",
       "    }\n",
       "\n",
       "    .dataframe tbody tr th {\n",
       "        vertical-align: top;\n",
       "    }\n",
       "\n",
       "    .dataframe thead th {\n",
       "        text-align: right;\n",
       "    }\n",
       "</style>\n",
       "<table border=\"1\" class=\"dataframe\">\n",
       "  <thead>\n",
       "    <tr style=\"text-align: right;\">\n",
       "      <th></th>\n",
       "      <th>class_id</th>\n",
       "      <th>TYPE</th>\n",
       "      <th>file name</th>\n",
       "    </tr>\n",
       "  </thead>\n",
       "  <tbody>\n",
       "    <tr>\n",
       "      <th>4740</th>\n",
       "      <td>11</td>\n",
       "      <td>Sugar beet</td>\n",
       "      <td>f9a842f5f.png</td>\n",
       "    </tr>\n",
       "    <tr>\n",
       "      <th>4741</th>\n",
       "      <td>11</td>\n",
       "      <td>Sugar beet</td>\n",
       "      <td>faaac2544.png</td>\n",
       "    </tr>\n",
       "    <tr>\n",
       "      <th>4742</th>\n",
       "      <td>11</td>\n",
       "      <td>Sugar beet</td>\n",
       "      <td>fb57ce659.png</td>\n",
       "    </tr>\n",
       "    <tr>\n",
       "      <th>4743</th>\n",
       "      <td>11</td>\n",
       "      <td>Sugar beet</td>\n",
       "      <td>fbb26c002.png</td>\n",
       "    </tr>\n",
       "    <tr>\n",
       "      <th>4744</th>\n",
       "      <td>11</td>\n",
       "      <td>Sugar beet</td>\n",
       "      <td>fbec8cc1a.png</td>\n",
       "    </tr>\n",
       "    <tr>\n",
       "      <th>4745</th>\n",
       "      <td>11</td>\n",
       "      <td>Sugar beet</td>\n",
       "      <td>fc293eacb.png</td>\n",
       "    </tr>\n",
       "    <tr>\n",
       "      <th>4746</th>\n",
       "      <td>11</td>\n",
       "      <td>Sugar beet</td>\n",
       "      <td>fc441208c.png</td>\n",
       "    </tr>\n",
       "    <tr>\n",
       "      <th>4747</th>\n",
       "      <td>11</td>\n",
       "      <td>Sugar beet</td>\n",
       "      <td>fed9406b2.png</td>\n",
       "    </tr>\n",
       "    <tr>\n",
       "      <th>4748</th>\n",
       "      <td>11</td>\n",
       "      <td>Sugar beet</td>\n",
       "      <td>fef5e7066.png</td>\n",
       "    </tr>\n",
       "    <tr>\n",
       "      <th>4749</th>\n",
       "      <td>11</td>\n",
       "      <td>Sugar beet</td>\n",
       "      <td>ffa401155.png</td>\n",
       "    </tr>\n",
       "  </tbody>\n",
       "</table>\n",
       "</div>"
      ],
      "text/plain": [
       "      class_id        TYPE      file name\n",
       "4740        11  Sugar beet  f9a842f5f.png\n",
       "4741        11  Sugar beet  faaac2544.png\n",
       "4742        11  Sugar beet  fb57ce659.png\n",
       "4743        11  Sugar beet  fbb26c002.png\n",
       "4744        11  Sugar beet  fbec8cc1a.png\n",
       "4745        11  Sugar beet  fc293eacb.png\n",
       "4746        11  Sugar beet  fc441208c.png\n",
       "4747        11  Sugar beet  fed9406b2.png\n",
       "4748        11  Sugar beet  fef5e7066.png\n",
       "4749        11  Sugar beet  ffa401155.png"
      ]
     },
     "execution_count": 4,
     "metadata": {},
     "output_type": "execute_result"
    }
   ],
   "source": [
    "#data arrange\n",
    "train = []\n",
    "for i in enumerate(class_plant):\n",
    "  class_id = i[0]\n",
    "  class_type = i[1]\n",
    "  #start arranging into matrix:\n",
    "  for file in os.listdir(os.path.join(\"train\", class_type)):\n",
    "    train.append([class_id,class_type,file])\n",
    "\n",
    "train_df = pd.DataFrame(train, columns=[\"class_id\",\"TYPE\",\"file name\"])\n",
    "train_df.tail(10) #data check"
   ]
  },
  {
   "cell_type": "markdown",
   "metadata": {},
   "source": [
    "# restore training model (arg.)"
   ]
  },
  {
   "cell_type": "code",
   "execution_count": 4,
   "metadata": {},
   "outputs": [
    {
     "name": "stdout",
     "output_type": "stream",
     "text": [
      "WARNING:tensorflow:From D:\\Users\\u9593\\Anaconda3\\envs\\tensorflow-gpu\\lib\\site-packages\\tensorflow\\python\\ops\\init_ops.py:97: calling GlorotUniform.__init__ (from tensorflow.python.ops.init_ops) with dtype is deprecated and will be removed in a future version.\n",
      "Instructions for updating:\n",
      "Call initializer instance with the dtype argument instead of passing it to the constructor\n",
      "WARNING:tensorflow:From D:\\Users\\u9593\\Anaconda3\\envs\\tensorflow-gpu\\lib\\site-packages\\tensorflow\\python\\ops\\init_ops.py:1251: calling VarianceScaling.__init__ (from tensorflow.python.ops.init_ops) with dtype is deprecated and will be removed in a future version.\n",
      "Instructions for updating:\n",
      "Call initializer instance with the dtype argument instead of passing it to the constructor\n",
      "WARNING:tensorflow:From D:\\Users\\u9593\\Anaconda3\\envs\\tensorflow-gpu\\lib\\site-packages\\tensorflow\\python\\ops\\init_ops.py:97: calling Zeros.__init__ (from tensorflow.python.ops.init_ops) with dtype is deprecated and will be removed in a future version.\n",
      "Instructions for updating:\n",
      "Call initializer instance with the dtype argument instead of passing it to the constructor\n",
      "Model: \"sequential\"\n",
      "_________________________________________________________________\n",
      "Layer (type)                 Output Shape              Param #   \n",
      "=================================================================\n",
      "conv2d (Conv2D)              (None, 150, 150, 32)      896       \n",
      "_________________________________________________________________\n",
      "leaky_re_lu (LeakyReLU)      (None, 150, 150, 32)      0         \n",
      "_________________________________________________________________\n",
      "conv2d_1 (Conv2D)            (None, 150, 150, 64)      18496     \n",
      "_________________________________________________________________\n",
      "leaky_re_lu_1 (LeakyReLU)    (None, 150, 150, 64)      0         \n",
      "_________________________________________________________________\n",
      "conv2d_2 (Conv2D)            (None, 150, 150, 64)      36928     \n",
      "_________________________________________________________________\n",
      "leaky_re_lu_2 (LeakyReLU)    (None, 150, 150, 64)      0         \n",
      "_________________________________________________________________\n",
      "max_pooling2d (MaxPooling2D) (None, 75, 75, 64)        0         \n",
      "_________________________________________________________________\n",
      "dropout (Dropout)            (None, 75, 75, 64)        0         \n",
      "_________________________________________________________________\n",
      "conv2d_3 (Conv2D)            (None, 38, 38, 128)       73856     \n",
      "_________________________________________________________________\n",
      "leaky_re_lu_3 (LeakyReLU)    (None, 38, 38, 128)       0         \n",
      "_________________________________________________________________\n",
      "conv2d_4 (Conv2D)            (None, 38, 38, 128)       147584    \n",
      "_________________________________________________________________\n",
      "leaky_re_lu_4 (LeakyReLU)    (None, 38, 38, 128)       0         \n",
      "_________________________________________________________________\n",
      "conv2d_5 (Conv2D)            (None, 38, 38, 128)       147584    \n",
      "_________________________________________________________________\n",
      "leaky_re_lu_5 (LeakyReLU)    (None, 38, 38, 128)       0         \n",
      "_________________________________________________________________\n",
      "dropout_1 (Dropout)          (None, 38, 38, 128)       0         \n",
      "_________________________________________________________________\n",
      "flatten (Flatten)            (None, 184832)            0         \n",
      "_________________________________________________________________\n",
      "dropout_2 (Dropout)          (None, 184832)            0         \n",
      "_________________________________________________________________\n",
      "dense (Dense)                (None, 128)               23658624  \n",
      "_________________________________________________________________\n",
      "dense_1 (Dense)              (None, 12)                1548      \n",
      "=================================================================\n",
      "Total params: 24,085,516\n",
      "Trainable params: 24,085,516\n",
      "Non-trainable params: 0\n",
      "_________________________________________________________________\n"
     ]
    }
   ],
   "source": [
    "from tensorflow.keras.models import load_model\n",
    "model= load_model(\"seed_predict.h5\")\n",
    "model.summary()"
   ]
  },
  {
   "cell_type": "markdown",
   "metadata": {
    "colab_type": "text",
    "id": "MTYo8x-OUqvq"
   },
   "source": [
    "# model construct (VGG16)"
   ]
  },
  {
   "cell_type": "code",
   "execution_count": null,
   "metadata": {
    "colab": {},
    "colab_type": "code",
    "id": "_hh5oqiDUjfY"
   },
   "outputs": [],
   "source": [
    "\n",
    "import numpy as np\n",
    "from tensorflow.keras.models import Model,Sequential\n",
    "from tensorflow.keras.layers import Flatten\n",
    "from tensorflow.keras.layers import Dense\n",
    "from tensorflow.keras.layers import Input,Flatten\n",
    "from tensorflow.keras.layers import Conv2D\n",
    "from tensorflow.keras.layers import MaxPooling2D\n",
    "from tensorflow.keras.layers import GlobalMaxPooling2D\n",
    "from tensorflow.keras.layers import GlobalAveragePooling2D\n",
    "from tensorflow.keras import backend as K\n",
    "\n",
    "\n",
    "\n",
    "def VGG16(include_top=True,input_tensor=None, input_shape=(224,224,3),\n",
    "          pooling='max',classes=1000):\n",
    " \n",
    "    img_input = Input(shape=input_shape)\n",
    "\n",
    "    x = Conv2D(64, (3, 3), activation='relu', padding='same', name='block1_conv1')(img_input)\n",
    "    x = Conv2D(64, (3, 3), activation='relu', padding='same', name='block1_conv2')(x)\n",
    "    x = MaxPooling2D((2, 2), strides=(2, 2), name='block1_pool')(x)\n",
    "\n",
    "    # Block 2\n",
    "    x = Conv2D(128, (3, 3), activation='relu', padding='same', name='block2_conv1')(x)\n",
    "    x = Conv2D(128, (3, 3), activation='relu', padding='same', name='block2_conv2')(x)\n",
    "    x = MaxPooling2D((2, 2), strides=(2, 2), name='block2_pool')(x)\n",
    "\n",
    "    # Block 3\n",
    "    x = Conv2D(256, (3, 3), activation='relu', padding='same', name='block3_conv1')(x)\n",
    "    x = Conv2D(256, (3, 3), activation='relu', padding='same', name='block3_conv2')(x)\n",
    "    x = Conv2D(256, (3, 3), activation='relu', padding='same', name='block3_conv3')(x)\n",
    "    x = MaxPooling2D((2, 2), strides=(2, 2), name='block3_pool')(x)\n",
    "\n",
    "    # Block 4\n",
    "    x = Conv2D(512, (3, 3), activation='relu', padding='same', name='block4_conv1')(x)\n",
    "    x = Conv2D(512, (3, 3), activation='relu', padding='same', name='block4_conv2')(x)\n",
    "    x = Conv2D(512, (3, 3), activation='relu', padding='same', name='block4_conv3')(x)\n",
    "    x = MaxPooling2D((2, 2), strides=(2, 2), name='block4_pool')(x)\n",
    "  \n",
    "    # Block 5\n",
    "    x = Conv2D(512, (3, 3), activation='relu', padding='same', name='block5_conv1')(x)\n",
    "    x = Conv2D(512, (3, 3), activation='relu', padding='same', name='block5_conv2')(x)\n",
    "    x = Conv2D(512, (3, 3), activation='relu', padding='same', name='block5_conv3')(x)\n",
    "    x = MaxPooling2D((2, 2), strides=(2, 2), name='block5_pool')(x)\n",
    "\n",
    "    if include_top: #include_top: whether to include the 3 fully-connected layers at the top of the network.\n",
    "        # Classification block\n",
    "        x = Flatten(name='flatten')(x)\n",
    "        x = Dense(4096, activation='relu', name='fc1')(x)\n",
    "        x = Dense(4096, activation='relu', name='fc2')(x)\n",
    "        x = Dense(1000, activation='softmax', name='predictions')(x)\n",
    "    else:\n",
    "        if pooling == 'avg':\n",
    "            x = GlobalAveragePooling2D()(x)\n",
    "        elif pooling == 'max':\n",
    "            x = GlobalMaxPooling2D()(x)\n",
    "\n",
    "    inputs = img_input\n",
    "    # Create model.\n",
    "    model = Model(inputs, x, name='vgg16')\n",
    "   \n",
    "    return model\n",
    "\n",
    "\n",
    "model = VGG16(include_top=False)\n",
    "model.summary()"
   ]
  },
  {
   "cell_type": "markdown",
   "metadata": {
    "colab_type": "text",
    "id": "y6_UAvvsku0P"
   },
   "source": [
    "# construct simple model:"
   ]
  },
  {
   "cell_type": "code",
   "execution_count": 5,
   "metadata": {
    "colab": {},
    "colab_type": "code",
    "id": "eB0YDtICYIo8"
   },
   "outputs": [
    {
     "name": "stdout",
     "output_type": "stream",
     "text": [
      "Found 3803 images belonging to 12 classes.\n",
      "Found 947 images belonging to 12 classes.\n",
      "Class #0 = Black-grass\n",
      "Class #1 = Charlock\n",
      "Class #2 = Cleavers\n",
      "Class #3 = Common Chickweed\n",
      "Class #4 = Common wheat\n",
      "Class #5 = Fat Hen\n",
      "Class #6 = Loose Silky-bent\n",
      "Class #7 = Maize\n",
      "Class #8 = Scentless Mayweed\n",
      "Class #9 = Shepherds Purse\n",
      "Class #10 = Small-flowered Cranesbill\n",
      "Class #11 = Sugar beet\n"
     ]
    }
   ],
   "source": [
    "from tensorflow.python.keras.preprocessing.image import ImageDataGenerator\n",
    "\n",
    "TRAIN_DATASET_PATH = 'train'\n",
    "TEST_DATASET_PATH = 'test'\n",
    "IMAGE_SIZE = (150,150)\n",
    "BATCH_SIZE = 16\n",
    "NUM_CLASSES = 12 # number of category\n",
    "\n",
    "\n",
    "train_datagen = ImageDataGenerator(rescale=1./255,\n",
    "                                   rotation_range=85, # image rotation angle range\n",
    "                                   width_shift_range=0.2, # horiziontal shift\n",
    "                                   height_shift_range=0.2, # vertical shift\n",
    "                                   shear_range=0.2, # transform rectangle to parallelogram\n",
    "                                   zoom_range=0.2, # the scale of zoom in or zoom out\n",
    "                                   channel_shift_range=0, # change whole image color by shift color channel\n",
    "                                   horizontal_flip=True,\n",
    "                                   fill_mode='nearest', # the method to transform the image (eg. zoom, shift...)\n",
    "                                   validation_split=0.2) # 80% for training  20% for validation\n",
    "\n",
    "# generate train data & validation data\n",
    "train_batches = train_datagen.flow_from_directory(TRAIN_DATASET_PATH,\n",
    "                                                  target_size=IMAGE_SIZE, # image scale size\n",
    "                                                  interpolation='bicubic', # image scale method\n",
    "                                                  class_mode='categorical',\n",
    "                                                  shuffle=True,\n",
    "                                                  batch_size=BATCH_SIZE,\n",
    "                                                  subset='training')\n",
    "valid_batches = train_datagen.flow_from_directory(TRAIN_DATASET_PATH,\n",
    "                                                  target_size=IMAGE_SIZE, # image scale size\n",
    "                                                  interpolation='bicubic', # image scale method\n",
    "                                                  class_mode='categorical',\n",
    "                                                  shuffle=True,\n",
    "                                                  batch_size=BATCH_SIZE,\n",
    "                                                  subset='validation')\n",
    "#remember not to expand test set\n",
    "\n",
    "for cls, idx in train_batches.class_indices.items():\n",
    "    print('Class #{} = {}'.format(idx, cls))"
   ]
  },
  {
   "cell_type": "code",
   "execution_count": 7,
   "metadata": {
    "colab": {},
    "colab_type": "code",
    "id": "J927n9k2WHNp"
   },
   "outputs": [
    {
     "name": "stdout",
     "output_type": "stream",
     "text": [
      "WARNING:tensorflow:From D:\\Users\\u9593\\Anaconda3\\envs\\tensorflow-gpu\\lib\\site-packages\\tensorflow\\python\\ops\\init_ops.py:1251: calling VarianceScaling.__init__ (from tensorflow.python.ops.init_ops) with dtype is deprecated and will be removed in a future version.\n",
      "Instructions for updating:\n",
      "Call initializer instance with the dtype argument instead of passing it to the constructor\n",
      "Model: \"sequential\"\n",
      "_________________________________________________________________\n",
      "Layer (type)                 Output Shape              Param #   \n",
      "=================================================================\n",
      "conv2d (Conv2D)              (None, 150, 150, 32)      896       \n",
      "_________________________________________________________________\n",
      "leaky_re_lu (LeakyReLU)      (None, 150, 150, 32)      0         \n",
      "_________________________________________________________________\n",
      "conv2d_1 (Conv2D)            (None, 150, 150, 64)      18496     \n",
      "_________________________________________________________________\n",
      "leaky_re_lu_1 (LeakyReLU)    (None, 150, 150, 64)      0         \n",
      "_________________________________________________________________\n",
      "conv2d_2 (Conv2D)            (None, 150, 150, 64)      36928     \n",
      "_________________________________________________________________\n",
      "leaky_re_lu_2 (LeakyReLU)    (None, 150, 150, 64)      0         \n",
      "_________________________________________________________________\n",
      "max_pooling2d (MaxPooling2D) (None, 75, 75, 64)        0         \n",
      "_________________________________________________________________\n",
      "dropout (Dropout)            (None, 75, 75, 64)        0         \n",
      "_________________________________________________________________\n",
      "conv2d_3 (Conv2D)            (None, 38, 38, 128)       73856     \n",
      "_________________________________________________________________\n",
      "leaky_re_lu_3 (LeakyReLU)    (None, 38, 38, 128)       0         \n",
      "_________________________________________________________________\n",
      "conv2d_4 (Conv2D)            (None, 38, 38, 128)       147584    \n",
      "_________________________________________________________________\n",
      "leaky_re_lu_4 (LeakyReLU)    (None, 38, 38, 128)       0         \n",
      "_________________________________________________________________\n",
      "conv2d_5 (Conv2D)            (None, 38, 38, 128)       147584    \n",
      "_________________________________________________________________\n",
      "leaky_re_lu_5 (LeakyReLU)    (None, 38, 38, 128)       0         \n",
      "_________________________________________________________________\n",
      "dropout_1 (Dropout)          (None, 38, 38, 128)       0         \n",
      "_________________________________________________________________\n",
      "flatten (Flatten)            (None, 184832)            0         \n",
      "_________________________________________________________________\n",
      "dropout_2 (Dropout)          (None, 184832)            0         \n",
      "_________________________________________________________________\n",
      "dense (Dense)                (None, 128)               23658624  \n",
      "_________________________________________________________________\n",
      "dense_1 (Dense)              (None, 12)                1548      \n",
      "=================================================================\n",
      "Total params: 24,085,516\n",
      "Trainable params: 24,085,516\n",
      "Non-trainable params: 0\n",
      "_________________________________________________________________\n",
      "None\n"
     ]
    }
   ],
   "source": [
    "from tensorflow.keras import backend as K\n",
    "from tensorflow.keras import layers\n",
    "from tensorflow.keras import models\n",
    "model= models.Sequential()\n",
    "model.add(layers.Conv2D(32,(3,3),padding='same',activation='linear',input_shape=(150,150,3)))\n",
    "model.add(layers.LeakyReLU())\n",
    "model.add(layers.Conv2D(64,(3,3),padding='same',activation='linear'))\n",
    "model.add(layers.LeakyReLU())\n",
    "model.add(layers.Conv2D(64,(3,3),padding='same',activation='linear'))\n",
    "model.add(layers.LeakyReLU())\n",
    "model.add(layers.MaxPooling2D(2,2))\n",
    "\n",
    "model.add(layers.Dropout(0.2))\n",
    "\n",
    "model.add(layers.Conv2D(128,(3,3),padding='same',strides=2,activation='linear'))\n",
    "model.add(layers.LeakyReLU())\n",
    "model.add(layers.Conv2D(128,(3,3),padding='same',activation='linear'))\n",
    "model.add(layers.LeakyReLU())\n",
    "model.add(layers.Conv2D(128,(3,3),padding='same',activation='linear'))\n",
    "model.add(layers.LeakyReLU())\n",
    "\n",
    "model.add(layers.Dropout(0.2))\n",
    "model.add(layers.Flatten())\n",
    "model.add(layers.Dropout(0.5))\n",
    "model.add(layers.Dense(128,activation='tanh'))\n",
    "model.add(layers.Dense(NUM_CLASSES, activation='softmax'))\n",
    "print(model.summary())"
   ]
  },
  {
   "cell_type": "code",
   "execution_count": 8,
   "metadata": {
    "colab": {},
    "colab_type": "code",
    "id": "6dPprE6Kkz_x"
   },
   "outputs": [],
   "source": [
    "from tensorflow.keras import optimizers\n",
    "model.compile(loss=\"categorical_crossentropy\",optimizer=optimizers.RMSprop(lr=1e-4),metrics=['accuracy'])"
   ]
  },
  {
   "cell_type": "code",
   "execution_count": 8,
   "metadata": {
    "colab": {},
    "colab_type": "code",
    "id": "1M2tWcmSkzz0",
    "scrolled": true
   },
   "outputs": [
    {
     "name": "stdout",
     "output_type": "stream",
     "text": [
      "Epoch 1/100\n",
      "238/238 [==============================] - 96s 405ms/step - loss: 2.0737 - acc: 0.2653 - val_loss: 1.6442 - val_acc: 0.4139\n",
      "Epoch 2/100\n",
      "238/238 [==============================] - 94s 394ms/step - loss: 1.5836 - acc: 0.4407 - val_loss: 1.4867 - val_acc: 0.4931\n",
      "Epoch 3/100\n",
      "238/238 [==============================] - 94s 395ms/step - loss: 1.4451 - acc: 0.4912 - val_loss: 1.4482 - val_acc: 0.5132\n",
      "Epoch 4/100\n",
      "238/238 [==============================] - 82s 344ms/step - loss: 1.3407 - acc: 0.5338 - val_loss: 1.3247 - val_acc: 0.5713\n",
      "Epoch 5/100\n",
      "238/238 [==============================] - 75s 315ms/step - loss: 1.2613 - acc: 0.5619 - val_loss: 1.2600 - val_acc: 0.5766\n",
      "Epoch 6/100\n",
      "238/238 [==============================] - 76s 320ms/step - loss: 1.1652 - acc: 0.5924 - val_loss: 1.1253 - val_acc: 0.6230\n",
      "Epoch 7/100\n",
      "238/238 [==============================] - 69s 291ms/step - loss: 1.0828 - acc: 0.6171 - val_loss: 1.1095 - val_acc: 0.6431\n",
      "Epoch 8/100\n",
      "238/238 [==============================] - 62s 261ms/step - loss: 1.0541 - acc: 0.6282 - val_loss: 1.0126 - val_acc: 0.6600\n",
      "Epoch 9/100\n",
      "238/238 [==============================] - 61s 258ms/step - loss: 1.0114 - acc: 0.6516 - val_loss: 0.9814 - val_acc: 0.6790\n",
      "Epoch 10/100\n",
      "238/238 [==============================] - 62s 262ms/step - loss: 0.9652 - acc: 0.6737 - val_loss: 0.9750 - val_acc: 0.6727\n",
      "Epoch 11/100\n",
      "238/238 [==============================] - 65s 274ms/step - loss: 0.9434 - acc: 0.6726 - val_loss: 0.9804 - val_acc: 0.6536\n",
      "Epoch 12/100\n",
      "238/238 [==============================] - 62s 261ms/step - loss: 0.9165 - acc: 0.6897 - val_loss: 0.8531 - val_acc: 0.7276\n",
      "Epoch 13/100\n",
      "238/238 [==============================] - 59s 248ms/step - loss: 0.8892 - acc: 0.6939 - val_loss: 0.8624 - val_acc: 0.7012\n",
      "Epoch 14/100\n",
      "238/238 [==============================] - 59s 248ms/step - loss: 0.8631 - acc: 0.7010 - val_loss: 0.9402 - val_acc: 0.6906\n",
      "Epoch 15/100\n",
      "238/238 [==============================] - 59s 247ms/step - loss: 0.8235 - acc: 0.7173 - val_loss: 0.8527 - val_acc: 0.7064\n",
      "Epoch 16/100\n",
      "238/238 [==============================] - 59s 250ms/step - loss: 0.8230 - acc: 0.7197 - val_loss: 0.8185 - val_acc: 0.7233\n",
      "Epoch 17/100\n",
      "238/238 [==============================] - 59s 247ms/step - loss: 0.8018 - acc: 0.7231 - val_loss: 1.1000 - val_acc: 0.6336\n",
      "Epoch 18/100\n",
      "238/238 [==============================] - 59s 247ms/step - loss: 0.7825 - acc: 0.7292 - val_loss: 0.8756 - val_acc: 0.7202\n",
      "Epoch 19/100\n",
      "238/238 [==============================] - 77s 324ms/step - loss: 0.7728 - acc: 0.7294 - val_loss: 0.7902 - val_acc: 0.7339\n",
      "Epoch 20/100\n",
      "238/238 [==============================] - 89s 374ms/step - loss: 0.7478 - acc: 0.7381 - val_loss: 0.8060 - val_acc: 0.7265\n",
      "Epoch 21/100\n",
      "238/238 [==============================] - 88s 368ms/step - loss: 0.7455 - acc: 0.7376 - val_loss: 0.7886 - val_acc: 0.7550\n",
      "Epoch 22/100\n",
      "238/238 [==============================] - 87s 364ms/step - loss: 0.7057 - acc: 0.7589 - val_loss: 0.7053 - val_acc: 0.7614\n",
      "Epoch 23/100\n",
      "238/238 [==============================] - 84s 351ms/step - loss: 0.6931 - acc: 0.7591 - val_loss: 0.7192 - val_acc: 0.7603\n",
      "Epoch 24/100\n",
      "238/238 [==============================] - 84s 353ms/step - loss: 0.6868 - acc: 0.7623 - val_loss: 0.6755 - val_acc: 0.7846\n",
      "Epoch 25/100\n",
      "238/238 [==============================] - 85s 356ms/step - loss: 0.6743 - acc: 0.7589 - val_loss: 0.7621 - val_acc: 0.7635\n",
      "Epoch 26/100\n",
      "238/238 [==============================] - 84s 352ms/step - loss: 0.6576 - acc: 0.7702 - val_loss: 0.6603 - val_acc: 0.7761\n",
      "Epoch 27/100\n",
      "238/238 [==============================] - 83s 350ms/step - loss: 0.6561 - acc: 0.7736 - val_loss: 0.6916 - val_acc: 0.7730\n",
      "Epoch 28/100\n",
      "238/238 [==============================] - 85s 357ms/step - loss: 0.6392 - acc: 0.7731 - val_loss: 0.6572 - val_acc: 0.7867\n",
      "Epoch 29/100\n",
      "238/238 [==============================] - 85s 358ms/step - loss: 0.6317 - acc: 0.7752 - val_loss: 0.6469 - val_acc: 0.7941\n",
      "Epoch 30/100\n",
      "238/238 [==============================] - 85s 356ms/step - loss: 0.6212 - acc: 0.7891 - val_loss: 0.7161 - val_acc: 0.7466\n",
      "Epoch 31/100\n",
      "238/238 [==============================] - 86s 360ms/step - loss: 0.6057 - acc: 0.7873 - val_loss: 0.7325 - val_acc: 0.7582\n",
      "Epoch 32/100\n",
      "238/238 [==============================] - 87s 366ms/step - loss: 0.6008 - acc: 0.7933 - val_loss: 0.6842 - val_acc: 0.7614\n",
      "Epoch 33/100\n",
      "238/238 [==============================] - 86s 360ms/step - loss: 0.5706 - acc: 0.8020 - val_loss: 0.6821 - val_acc: 0.7835\n",
      "Epoch 34/100\n",
      "238/238 [==============================] - 89s 374ms/step - loss: 0.5865 - acc: 0.7931 - val_loss: 0.6275 - val_acc: 0.8025\n",
      "Epoch 35/100\n",
      "238/238 [==============================] - 88s 370ms/step - loss: 0.5807 - acc: 0.8038 - val_loss: 0.6739 - val_acc: 0.7899\n",
      "Epoch 36/100\n",
      "238/238 [==============================] - 87s 365ms/step - loss: 0.5691 - acc: 0.7978 - val_loss: 0.5879 - val_acc: 0.8057\n",
      "Epoch 37/100\n",
      "238/238 [==============================] - 87s 364ms/step - loss: 0.5539 - acc: 0.8041 - val_loss: 0.7947 - val_acc: 0.7423\n",
      "Epoch 38/100\n",
      "238/238 [==============================] - 85s 357ms/step - loss: 0.5602 - acc: 0.8025 - val_loss: 0.6286 - val_acc: 0.7909\n",
      "Epoch 39/100\n",
      "238/238 [==============================] - 88s 368ms/step - loss: 0.5501 - acc: 0.8073 - val_loss: 0.6110 - val_acc: 0.7994\n",
      "Epoch 40/100\n",
      "238/238 [==============================] - 86s 361ms/step - loss: 0.5314 - acc: 0.8157 - val_loss: 0.5641 - val_acc: 0.8120\n",
      "Epoch 41/100\n",
      "238/238 [==============================] - 87s 366ms/step - loss: 0.5303 - acc: 0.8162 - val_loss: 0.5383 - val_acc: 0.8141\n",
      "Epoch 42/100\n",
      "238/238 [==============================] - 89s 373ms/step - loss: 0.5389 - acc: 0.8086 - val_loss: 0.5605 - val_acc: 0.8089\n",
      "Epoch 43/100\n",
      "238/238 [==============================] - 89s 374ms/step - loss: 0.5150 - acc: 0.8243 - val_loss: 0.5609 - val_acc: 0.8184\n",
      "Epoch 44/100\n",
      "238/238 [==============================] - 89s 373ms/step - loss: 0.5327 - acc: 0.8162 - val_loss: 0.5542 - val_acc: 0.8163\n",
      "Epoch 45/100\n",
      "238/238 [==============================] - 87s 368ms/step - loss: 0.5183 - acc: 0.8167 - val_loss: 0.5689 - val_acc: 0.8194\n",
      "Epoch 46/100\n",
      "238/238 [==============================] - 126s 529ms/step - loss: 0.4941 - acc: 0.8293 - val_loss: 0.5700 - val_acc: 0.8015\n",
      "Epoch 47/100\n",
      "238/238 [==============================] - 95s 400ms/step - loss: 0.5006 - acc: 0.8288 - val_loss: 0.5363 - val_acc: 0.8215\n",
      "Epoch 48/100\n",
      "238/238 [==============================] - 92s 387ms/step - loss: 0.4909 - acc: 0.8259 - val_loss: 0.5624 - val_acc: 0.8131\n",
      "Epoch 49/100\n",
      "238/238 [==============================] - 89s 375ms/step - loss: 0.4785 - acc: 0.8336 - val_loss: 0.5193 - val_acc: 0.8321\n",
      "Epoch 50/100\n",
      "238/238 [==============================] - 89s 375ms/step - loss: 0.4957 - acc: 0.8217 - val_loss: 0.6238 - val_acc: 0.7920\n",
      "Epoch 51/100\n",
      "238/238 [==============================] - 87s 367ms/step - loss: 0.4838 - acc: 0.8304 - val_loss: 0.4824 - val_acc: 0.8332\n",
      "Epoch 52/100\n",
      "238/238 [==============================] - 89s 373ms/step - loss: 0.4885 - acc: 0.8272 - val_loss: 0.5410 - val_acc: 0.8258\n",
      "Epoch 53/100\n",
      "238/238 [==============================] - 87s 367ms/step - loss: 0.4636 - acc: 0.8354 - val_loss: 0.5212 - val_acc: 0.8184\n",
      "Epoch 54/100\n",
      "238/238 [==============================] - 87s 367ms/step - loss: 0.4735 - acc: 0.8372 - val_loss: 0.5203 - val_acc: 0.8300\n",
      "Epoch 55/100\n",
      "238/238 [==============================] - 88s 368ms/step - loss: 0.4768 - acc: 0.8357 - val_loss: 0.6627 - val_acc: 0.7867\n",
      "Epoch 56/100\n",
      "238/238 [==============================] - 87s 364ms/step - loss: 0.4741 - acc: 0.8333 - val_loss: 0.5502 - val_acc: 0.8215\n",
      "Epoch 57/100\n",
      "238/238 [==============================] - 88s 371ms/step - loss: 0.4655 - acc: 0.8346 - val_loss: 0.5474 - val_acc: 0.8437\n",
      "Epoch 58/100\n",
      "238/238 [==============================] - 89s 373ms/step - loss: 0.4757 - acc: 0.8320 - val_loss: 0.5179 - val_acc: 0.8384\n",
      "Epoch 59/100\n",
      "238/238 [==============================] - 90s 377ms/step - loss: 0.4495 - acc: 0.8391 - val_loss: 0.5812 - val_acc: 0.7994\n",
      "Epoch 60/100\n",
      "238/238 [==============================] - 91s 381ms/step - loss: 0.4616 - acc: 0.8364 - val_loss: 0.4700 - val_acc: 0.8363\n"
     ]
    },
    {
     "name": "stdout",
     "output_type": "stream",
     "text": [
      "Epoch 61/100\n",
      "238/238 [==============================] - 90s 378ms/step - loss: 0.4614 - acc: 0.8367 - val_loss: 0.6159 - val_acc: 0.8025\n",
      "Epoch 62/100\n",
      "238/238 [==============================] - 91s 381ms/step - loss: 0.4585 - acc: 0.8441 - val_loss: 0.4569 - val_acc: 0.8522\n",
      "Epoch 63/100\n",
      "238/238 [==============================] - 91s 384ms/step - loss: 0.4478 - acc: 0.8407 - val_loss: 0.5504 - val_acc: 0.8046\n",
      "Epoch 64/100\n",
      "238/238 [==============================] - 91s 382ms/step - loss: 0.4400 - acc: 0.8462 - val_loss: 0.4650 - val_acc: 0.8479\n",
      "Epoch 65/100\n",
      "238/238 [==============================] - 91s 383ms/step - loss: 0.4311 - acc: 0.8504 - val_loss: 0.4608 - val_acc: 0.8553\n",
      "Epoch 66/100\n",
      "238/238 [==============================] - 90s 377ms/step - loss: 0.4293 - acc: 0.8478 - val_loss: 0.4611 - val_acc: 0.8490\n",
      "Epoch 67/100\n",
      "238/238 [==============================] - 90s 379ms/step - loss: 0.4407 - acc: 0.8459 - val_loss: 0.5092 - val_acc: 0.8215\n",
      "Epoch 68/100\n",
      "238/238 [==============================] - 89s 376ms/step - loss: 0.4361 - acc: 0.8512 - val_loss: 0.5801 - val_acc: 0.8057\n",
      "Epoch 69/100\n",
      "238/238 [==============================] - 91s 384ms/step - loss: 0.4469 - acc: 0.8420 - val_loss: 0.4823 - val_acc: 0.8374\n",
      "Epoch 70/100\n",
      "238/238 [==============================] - 90s 380ms/step - loss: 0.4305 - acc: 0.8478 - val_loss: 0.5375 - val_acc: 0.8258\n",
      "Epoch 71/100\n",
      "238/238 [==============================] - 91s 383ms/step - loss: 0.4305 - acc: 0.8435 - val_loss: 0.4888 - val_acc: 0.8321\n",
      "Epoch 72/100\n",
      "238/238 [==============================] - 90s 380ms/step - loss: 0.4304 - acc: 0.8456 - val_loss: 0.5025 - val_acc: 0.8289\n",
      "Epoch 73/100\n",
      "238/238 [==============================] - 90s 380ms/step - loss: 0.4387 - acc: 0.8443 - val_loss: 0.4960 - val_acc: 0.8416\n",
      "Epoch 74/100\n",
      "238/238 [==============================] - 91s 381ms/step - loss: 0.4257 - acc: 0.8464 - val_loss: 0.5019 - val_acc: 0.8321\n",
      "Epoch 75/100\n",
      "238/238 [==============================] - 96s 402ms/step - loss: 0.4208 - acc: 0.8493 - val_loss: 0.4934 - val_acc: 0.8427\n",
      "Epoch 76/100\n",
      "238/238 [==============================] - 93s 389ms/step - loss: 0.4357 - acc: 0.8478 - val_loss: 0.5621 - val_acc: 0.8152\n",
      "Epoch 77/100\n",
      "238/238 [==============================] - 90s 378ms/step - loss: 0.4049 - acc: 0.8604 - val_loss: 0.5138 - val_acc: 0.8184\n",
      "Epoch 78/100\n",
      "238/238 [==============================] - 90s 377ms/step - loss: 0.4253 - acc: 0.8449 - val_loss: 0.4591 - val_acc: 0.8363\n",
      "Epoch 79/100\n",
      "238/238 [==============================] - 89s 375ms/step - loss: 0.4103 - acc: 0.8554 - val_loss: 0.5063 - val_acc: 0.8353\n",
      "Epoch 80/100\n",
      "238/238 [==============================] - 90s 377ms/step - loss: 0.3994 - acc: 0.8604 - val_loss: 0.5050 - val_acc: 0.8300\n",
      "Epoch 81/100\n",
      "238/238 [==============================] - 90s 379ms/step - loss: 0.4068 - acc: 0.8559 - val_loss: 0.4689 - val_acc: 0.8458\n",
      "Epoch 82/100\n",
      "238/238 [==============================] - 93s 390ms/step - loss: 0.4057 - acc: 0.8546 - val_loss: 0.5459 - val_acc: 0.8258\n",
      "Epoch 83/100\n",
      "238/238 [==============================] - 90s 377ms/step - loss: 0.4098 - acc: 0.8596 - val_loss: 0.5571 - val_acc: 0.8363\n",
      "Epoch 84/100\n",
      "238/238 [==============================] - 91s 380ms/step - loss: 0.4086 - acc: 0.8530 - val_loss: 0.5143 - val_acc: 0.8279\n",
      "Epoch 85/100\n",
      "238/238 [==============================] - 91s 382ms/step - loss: 0.4017 - acc: 0.8588 - val_loss: 0.4380 - val_acc: 0.8522\n",
      "Epoch 86/100\n",
      "238/238 [==============================] - 89s 376ms/step - loss: 0.3973 - acc: 0.8585 - val_loss: 0.4299 - val_acc: 0.8596\n",
      "Epoch 87/100\n",
      "238/238 [==============================] - 91s 381ms/step - loss: 0.3897 - acc: 0.8635 - val_loss: 0.4767 - val_acc: 0.8405\n",
      "Epoch 88/100\n",
      "238/238 [==============================] - 90s 379ms/step - loss: 0.3920 - acc: 0.8641 - val_loss: 0.4523 - val_acc: 0.8501\n",
      "Epoch 89/100\n",
      "238/238 [==============================] - 89s 375ms/step - loss: 0.4128 - acc: 0.8564 - val_loss: 0.4138 - val_acc: 0.8574\n",
      "Epoch 90/100\n",
      "238/238 [==============================] - 90s 379ms/step - loss: 0.4121 - acc: 0.8583 - val_loss: 0.4466 - val_acc: 0.8596\n",
      "Epoch 91/100\n",
      "238/238 [==============================] - 89s 373ms/step - loss: 0.3944 - acc: 0.8614 - val_loss: 0.4939 - val_acc: 0.8321\n",
      "Epoch 92/100\n",
      "238/238 [==============================] - 91s 380ms/step - loss: 0.4009 - acc: 0.8572 - val_loss: 0.4499 - val_acc: 0.8469\n",
      "Epoch 93/100\n",
      "238/238 [==============================] - 90s 378ms/step - loss: 0.4048 - acc: 0.8551 - val_loss: 0.4596 - val_acc: 0.8501\n",
      "Epoch 94/100\n",
      "238/238 [==============================] - 90s 379ms/step - loss: 0.4114 - acc: 0.8570 - val_loss: 0.5030 - val_acc: 0.8416\n",
      "Epoch 95/100\n",
      "238/238 [==============================] - 90s 380ms/step - loss: 0.3896 - acc: 0.8693 - val_loss: 0.5188 - val_acc: 0.8342\n",
      "Epoch 96/100\n",
      "238/238 [==============================] - 89s 374ms/step - loss: 0.4033 - acc: 0.8617 - val_loss: 0.5020 - val_acc: 0.8469\n",
      "Epoch 97/100\n",
      "238/238 [==============================] - 90s 377ms/step - loss: 0.4081 - acc: 0.8520 - val_loss: 0.4584 - val_acc: 0.8553\n",
      "Epoch 98/100\n",
      "238/238 [==============================] - 89s 375ms/step - loss: 0.3963 - acc: 0.8604 - val_loss: 0.4505 - val_acc: 0.8543\n",
      "Epoch 99/100\n",
      "238/238 [==============================] - 89s 375ms/step - loss: 0.3874 - acc: 0.8614 - val_loss: 0.4831 - val_acc: 0.8342\n",
      "Epoch 100/100\n",
      "238/238 [==============================] - 90s 378ms/step - loss: 0.3886 - acc: 0.8633 - val_loss: 0.4449 - val_acc: 0.8574\n"
     ]
    }
   ],
   "source": [
    "start_train=model.fit(train_batches,\n",
    "                      epochs=100,\n",
    "                      verbose=1,\n",
    "                      validation_data=valid_batches)\n",
    "model.save('seed_predict.h5')"
   ]
  },
  {
   "cell_type": "code",
   "execution_count": 9,
   "metadata": {
    "colab": {},
    "colab_type": "code",
    "id": "nHBuS73QhN_l",
    "scrolled": false
   },
   "outputs": [
    {
     "data": {
      "text/plain": [
       "<function matplotlib.pyplot.show(*args, **kw)>"
      ]
     },
     "execution_count": 9,
     "metadata": {},
     "output_type": "execute_result"
    },
    {
     "data": {
      "image/png": "[encoded data removed]",
      "text/plain": [
       "<Figure size 432x288 with 1 Axes>"
      ]
     },
     "metadata": {
      "needs_background": "light"
     },
     "output_type": "display_data"
    },
    {
     "data": {
      "image/png": "[encoded data removed]",
      "text/plain": [
       "<Figure size 432x288 with 1 Axes>"
      ]
     },
     "metadata": {
      "needs_background": "light"
     },
     "output_type": "display_data"
    }
   ],
   "source": [
    "import matplotlib.pyplot as plt\n",
    "\n",
    "acc=start_train.history['acc']\n",
    "val_acc=start_train.history['val_acc']\n",
    "loss=start_train.history['loss']\n",
    "val_loss=start_train.history['val_loss']\n",
    "epochs=range(1,len(acc)+1)\n",
    "plt.plot(epochs,acc,'bo',label=\"train acc\")\n",
    "plt.plot(epochs,val_acc,'r',label=\"validation acc\")\n",
    "plt.title(\"train/validation accuracy\")\n",
    "plt.legend()\n",
    "plt.figure()\n",
    "\n",
    "plt.plot(epochs,loss,'bo',label=\"train loss\")\n",
    "plt.plot(epochs,val_loss,'r',label=\"validation loss\")\n",
    "plt.title(\"train/validation accuracy\")\n",
    "plt.legend()\n",
    "\n",
    "plt.show"
   ]
  },
  {
   "cell_type": "markdown",
   "metadata": {},
   "source": [
    "# Confusion Matrix\n",
    "##### 注意此方式建立稀疏矩陣有其缺陷，資料集不可經過shuffle。\n",
    "##### 藉由建立新的dataGenerator去重建一個未被影響的集合。(只做rescale動作)"
   ]
  },
  {
   "cell_type": "code",
   "execution_count": 6,
   "metadata": {},
   "outputs": [
    {
     "data": {
      "text/html": [
       "<div>\n",
       "<style scoped>\n",
       "    .dataframe tbody tr th:only-of-type {\n",
       "        vertical-align: middle;\n",
       "    }\n",
       "\n",
       "    .dataframe tbody tr th {\n",
       "        vertical-align: top;\n",
       "    }\n",
       "\n",
       "    .dataframe thead th {\n",
       "        text-align: right;\n",
       "    }\n",
       "</style>\n",
       "<table border=\"1\" class=\"dataframe\">\n",
       "  <thead>\n",
       "    <tr style=\"text-align: right;\">\n",
       "      <th></th>\n",
       "      <th>class</th>\n",
       "      <th>abbreviation</th>\n",
       "    </tr>\n",
       "  </thead>\n",
       "  <tbody>\n",
       "    <tr>\n",
       "      <th>0</th>\n",
       "      <td>Black-grass</td>\n",
       "      <td>BG</td>\n",
       "    </tr>\n",
       "    <tr>\n",
       "      <th>1</th>\n",
       "      <td>Charlock</td>\n",
       "      <td>Ch</td>\n",
       "    </tr>\n",
       "    <tr>\n",
       "      <th>2</th>\n",
       "      <td>Cleavers</td>\n",
       "      <td>Cl</td>\n",
       "    </tr>\n",
       "    <tr>\n",
       "      <th>3</th>\n",
       "      <td>Common Chickweed</td>\n",
       "      <td>CC</td>\n",
       "    </tr>\n",
       "    <tr>\n",
       "      <th>4</th>\n",
       "      <td>Common wheat</td>\n",
       "      <td>CW</td>\n",
       "    </tr>\n",
       "    <tr>\n",
       "      <th>5</th>\n",
       "      <td>Fat Hen</td>\n",
       "      <td>FH</td>\n",
       "    </tr>\n",
       "    <tr>\n",
       "      <th>6</th>\n",
       "      <td>Loose Silky-bent</td>\n",
       "      <td>LSB</td>\n",
       "    </tr>\n",
       "    <tr>\n",
       "      <th>7</th>\n",
       "      <td>Maize</td>\n",
       "      <td>M</td>\n",
       "    </tr>\n",
       "    <tr>\n",
       "      <th>8</th>\n",
       "      <td>Scentless Mayweed</td>\n",
       "      <td>SM</td>\n",
       "    </tr>\n",
       "    <tr>\n",
       "      <th>9</th>\n",
       "      <td>Shepherds Purse</td>\n",
       "      <td>SP</td>\n",
       "    </tr>\n",
       "    <tr>\n",
       "      <th>10</th>\n",
       "      <td>Small-flowered Cranesbill</td>\n",
       "      <td>SFC</td>\n",
       "    </tr>\n",
       "    <tr>\n",
       "      <th>11</th>\n",
       "      <td>Sugar beet</td>\n",
       "      <td>SB</td>\n",
       "    </tr>\n",
       "  </tbody>\n",
       "</table>\n",
       "</div>"
      ],
      "text/plain": [
       "                        class abbreviation\n",
       "0                 Black-grass           BG\n",
       "1                    Charlock           Ch\n",
       "2                    Cleavers           Cl\n",
       "3            Common Chickweed           CC\n",
       "4                Common wheat           CW\n",
       "5                     Fat Hen           FH\n",
       "6            Loose Silky-bent          LSB\n",
       "7                       Maize            M\n",
       "8           Scentless Mayweed           SM\n",
       "9             Shepherds Purse           SP\n",
       "10  Small-flowered Cranesbill          SFC\n",
       "11                 Sugar beet           SB"
      ]
     },
     "execution_count": 6,
     "metadata": {},
     "output_type": "execute_result"
    }
   ],
   "source": [
    "abbreviation = ['BG', 'Ch', 'Cl', 'CC', 'CW', 'FH', 'LSB', 'M', 'SM', 'SP', 'SFC', 'SB']\n",
    "pd.DataFrame({'class': class_plant, 'abbreviation': abbreviation})"
   ]
  },
  {
   "cell_type": "code",
   "execution_count": 11,
   "metadata": {},
   "outputs": [
    {
     "name": "stdout",
     "output_type": "stream",
     "text": [
      "Found 4750 images belonging to 12 classes.\n"
     ]
    }
   ],
   "source": [
    "test_datagen = ImageDataGenerator(rescale=1. / 255)\n",
    "validation_generator = test_datagen.flow_from_directory(TRAIN_DATASET_PATH,\n",
    "                                                        target_size=IMAGE_SIZE,\n",
    "                                                        shuffle=None,\n",
    "                                                        batch_size=BATCH_SIZE,\n",
    "                                                        class_mode='categorical')"
   ]
  },
  {
   "cell_type": "code",
   "execution_count": 14,
   "metadata": {},
   "outputs": [
    {
     "name": "stdout",
     "output_type": "stream",
     "text": [
      "Confusion Matrix\n",
      "[[172   1   0   3  20   8  50   1   1   0   1   6]\n",
      " [  0 377   2   0   0   0   0   2   1   2   1   5]\n",
      " [  0 111 165   1   3   1   0   0   1   1   1   3]\n",
      " [  1   2   0 572   0   0   0   1  10  20   2   3]\n",
      " [  3   0   3   3 200   8   0   1   1   0   0   2]\n",
      " [  0  18   0   3   1 438   1   1   0   0   8   5]\n",
      " [105   0   0   5   8   3 512   0  12   0   4   5]\n",
      " [  0   0   0   0   0   4   0 209   2   0   0   6]\n",
      " [  2  15   0   4   0   0   2   0 461  27   0   5]\n",
      " [  0   9   1   7   0   0   0   0  47 163   3   1]\n",
      " [  0  11   1   0   1   2   1   1   1   1 475   2]\n",
      " [  1   7   2   2   0   2   0   1   2   2   0 366]]\n",
      "Classification Report\n",
      "              precision    recall  f1-score   support\n",
      "\n",
      "          BG       0.61      0.65      0.63       263\n",
      "          Ch       0.68      0.97      0.80       390\n",
      "          Cl       0.95      0.57      0.72       287\n",
      "          CC       0.95      0.94      0.94       611\n",
      "          CW       0.86      0.90      0.88       221\n",
      "          FH       0.94      0.92      0.93       475\n",
      "         LSB       0.90      0.78      0.84       654\n",
      "           M       0.96      0.95      0.95       221\n",
      "          SM       0.86      0.89      0.87       516\n",
      "          SP       0.75      0.71      0.73       231\n",
      "         SFC       0.96      0.96      0.96       496\n",
      "          SB       0.89      0.95      0.92       385\n",
      "\n",
      "   micro avg       0.87      0.87      0.87      4750\n",
      "   macro avg       0.86      0.85      0.85      4750\n",
      "weighted avg       0.88      0.87      0.86      4750\n",
      "\n"
     ]
    }
   ],
   "source": [
    "from sklearn.metrics import classification_report, confusion_matrix\n",
    "from tensorflow.keras.models import load_model\n",
    "\n",
    "model= load_model(\"seed_predict.h5\")\n",
    "Y_pred = model.predict_generator(validation_generator, 4750 // BATCH_SIZE+1)\n",
    "y_pred = np.argmax(Y_pred, axis=-1)\n",
    "print('Confusion Matrix')\n",
    "print(confusion_matrix(validation_generator.classes, y_pred))\n",
    "print('Classification Report')\n",
    "target_names = ['BG', 'Ch', 'Cl', 'CC', 'CW', 'FH', 'LSB', 'M', 'SM', 'SP', 'SFC', 'SB']\n",
    "print(classification_report(validation_generator.classes, y_pred, target_names=target_names))"
   ]
  },
  {
   "cell_type": "markdown",
   "metadata": {},
   "source": [
    "# test the model!"
   ]
  },
  {
   "cell_type": "code",
   "execution_count": 10,
   "metadata": {
    "scrolled": true
   },
   "outputs": [
    {
     "name": "stdout",
     "output_type": "stream",
     "text": [
      "WARNING:tensorflow:From D:\\Users\\u9593\\Anaconda3\\envs\\tensorflow-gpu\\lib\\site-packages\\tensorflow\\python\\ops\\init_ops.py:97: calling GlorotUniform.__init__ (from tensorflow.python.ops.init_ops) with dtype is deprecated and will be removed in a future version.\n",
      "Instructions for updating:\n",
      "Call initializer instance with the dtype argument instead of passing it to the constructor\n",
      "WARNING:tensorflow:From D:\\Users\\u9593\\Anaconda3\\envs\\tensorflow-gpu\\lib\\site-packages\\tensorflow\\python\\ops\\init_ops.py:97: calling Zeros.__init__ (from tensorflow.python.ops.init_ops) with dtype is deprecated and will be removed in a future version.\n",
      "Instructions for updating:\n",
      "Call initializer instance with the dtype argument instead of passing it to the constructor\n",
      "(794, 150, 150, 3)\n",
      "794/794 [==============================] - 4s 5ms/sample\n"
     ]
    }
   ],
   "source": [
    "from tensorflow.keras.preprocessing import image\n",
    "from tensorflow.keras.models import load_model\n",
    "import numpy as np\n",
    "import glob\n",
    "import cv2\n",
    "\n",
    "img_names = glob.glob('test' + '\\\\' + '*.png') # get all image file name\n",
    "model = load_model(\"seed_predict.h5\")\n",
    "# load test data\n",
    "img = []\n",
    "for i in range(len(img_names)):\n",
    "    images = image.load_img(img_names[i], target_size=IMAGE_SIZE)\n",
    "    images = image.img_to_array(images)\n",
    "    images = images/255.\n",
    "    cv2.waitKey(0)\n",
    "    cv2.destroyAllWindows()\n",
    "    #if i==20:\n",
    "        #print(images)\n",
    "        #cv2.imshow(img_names[i],images) #make sure input data is correct\n",
    "        #print(\"origin\")\n",
    "    images = np.expand_dims(images, axis=0) # 2D array => 1D array\n",
    "    img.append(images)\n",
    "        \n",
    "x = np.concatenate([images for images in img]) # convert list to numpy array\n",
    "print(np.shape(x))\n",
    "# predict test data\n",
    "pred = model.predict(x,verbose=1)\n"
   ]
  },
  {
   "cell_type": "code",
   "execution_count": 11,
   "metadata": {},
   "outputs": [
    {
     "name": "stdout",
     "output_type": "stream",
     "text": [
      "[10  5 11  3 11  6  3  5  0  0  5 10 11  8 11  5  8  8  3  1  3 10  9 11\n",
      " 11  7  9  9  3 11  3  9  0  1  6  0  3  6  3  7  3  4  3 10 11  5  7  8\n",
      "  7 10  6 11  2  6  7  5  1 10  2  6 11  2  1  4  7  5  6  6  1  8 10  3\n",
      "  8  3  3  4  6  8  8  6 11  3  3  4  9 11  2  8  5  5  1  6  5  6  3  6\n",
      " 10  8  7  1  5  5  8 11  5  5  3  9  1  1  6  1  3  9  9 11  2  1 11 11\n",
      "  3  1  2  6  7  4  1  7  5  3 11 11  3  3  5  4  5  1  6  3  6 10  9  3\n",
      "  5 11  4 10 11  1  8  6  7  8  6 10  3  5  6  1  1  6  8  8  9  0  9  4\n",
      "  3  3  9  7  9  3  3 10  0  2  6  6  6 10  6 11  8  4  3  5  5 10  6  1\n",
      "  8  4  1  6  4  3  6  3  2  6  1  1 10  1  5  3  5  9  5  1  5  0 10  2\n",
      "  7  6 10  3  8  8  3 10  4  5  5  3  3  7  9  1  1  2  3  0  0  2 10  1\n",
      " 11  3  7 10  1  9  6  5 10  5  3  6  7  3  3  4  2  1 10  3  0  7  3  7\n",
      " 10  1  5  9  8  9  1  6  6 10  3 10  8  3  5  2  0  6  7 11  7  6  3  3\n",
      "  7  3  6  8  1  7 10 11  6  6 10  5  9  3  2 10 11  1  1  8  2  2 11  6\n",
      "  8  4  9  6 11  1  6 10 11  1  1 10 10 10  0 11 10 11  1  8  6  6 11  2\n",
      "  1  9  0  1 10  8  3  1  1  5  9  7  5 11  6  5  6  1  5  6  6  3  8 10\n",
      " 10  3  1  1  6  1  0  8 10 10 11  3  3  1 11 11  8  6  4  3  1 11  3  8\n",
      "  5  6  8 11  3  3  6 11  8  8  5  5 10  1  1  3  7 11  8  1  1  6  5 10\n",
      "  8  4  6  6 10 10  6 11  5  3  2  5  1  3  0  6  5 10  9  2 11 10  6  1\n",
      "  5 10 10 10  6  6  5  6  3  1  8  0  3  3  1  9 11 10  3 10  8  9 11  3\n",
      "  8  1  3 11  3 10  2  0  5  1  6  1  6  8 10 11  4  3  1 10  3  9  8  6\n",
      "  4  0  6  6  1  8 11  6  2  3  6  6  4 10 10  5  3  7 10 10  1  1  7  2\n",
      "  0  6 10  1 10  3 10  6  6  6  9  3  7  9  3  5 11 11  5  8 10  1 11  9\n",
      "  1  6  6  8  0  3  1 11  6  2  4  8  3  6  6  3  6  6  3  9  6  8 10 10\n",
      "  6  6  0  1  8  2  2  4  6  1  3  3  7  9  5  8  7  0  6  6  5 10  6  8\n",
      "  4  5  9  7 11  6  8  8  6  1  8 11  5  9  3  8  5  6  9  8  8  9  7 11\n",
      "  8  3  5  8  8 10 10  9  7  6  3 10  8  1  5  3  8  3  6 10 11  2  6  3\n",
      "  1  8  8  8  4  5  3 10  4  3  9  1  0  5  7  1 11  0 10 10  1  3  6  2\n",
      "  6  3  7  8  1  5  6 11  6  4  1 10  8  1  3  0  5  3  8  4  6  5  8  8\n",
      "  5 10  8  8  5  3 10  3  6 11  9  1  3  0  1 10  6  5 11  8  3 11 10  5\n",
      " 11  0  3  6 11  4  3  8  8  1  1  6 11  2  1 11  7  0 11  2  6  9  5  4\n",
      " 11  8  4  5 11 10  6  1 10  5  5  9  0  3  9 10 10  1  8  1  0 11  3  6\n",
      "  8  8  1  1 11  6  9  6 10  1  8  6  1  5  5  1  8 11  1 10 11  7  3  9\n",
      "  9  2  5  3  9  2  1  5  0  1  1 11  1  6  3  4  6  0  8  8  9  6 11 11\n",
      "  1  4]\n"
     ]
    }
   ],
   "source": [
    "import csv\n",
    "\n",
    "file_names = [name.split('\\\\')[1] for name in img_names] # get all image file name\n",
    "# generate class id and class name map table\n",
    "# eg. #0 => Black-grass\n",
    "class_map = {idx:cls for cls, idx in list(train_batches.class_indices.items())} \n",
    "\n",
    "pred_idx = np.argmax(pred,axis=-1 ) # get the highest probability class\n",
    "print(pred_idx)\n",
    "\n",
    "pred_result = [class_map[idx] for idx in pred_idx] # convert class id to class name\n",
    "\n",
    "# convert predict result to csv file\n",
    "with open('submission3.csv', 'w', newline='') as csvfile:\n",
    "    writer = csv.writer(csvfile)\n",
    "    writer.writerow(['file', 'species']) # write csv file header\n",
    "    for i in range(len(pred_result)):\n",
    "        writer.writerow([file_names[i], pred_result[i]])"
   ]
  },
  {
   "cell_type": "markdown",
   "metadata": {
    "colab_type": "text",
    "id": "kQIc1knLNTwj"
   },
   "source": [
    "# reference model"
   ]
  },
  {
   "cell_type": "code",
   "execution_count": null,
   "metadata": {
    "colab": {},
    "colab_type": "code",
    "id": "hrFN5kriV4tt"
   },
   "outputs": [],
   "source": [
    "from tensorflow.keras import backend as K\n",
    "from tensorflow.keras import optimizers\n",
    "from tensorflow.keras.models import Model, Sequential\n",
    "from tensorflow.keras.layers import Input, Dense, Dropout, Flatten, Conv2D, MaxPool2D\n",
    "\n",
    "#model = Sequential()\n",
    "sequence_input = Input(name='sequence_input', shape=(224, 224, 3))\n",
    "x = Conv2D(32, 2, input_shape=(224, 224, 3), padding='same', activation='relu')(sequence_input)\n",
    "x = MaxPool2D(pool_size=(2, 2))(x)\n",
    "x = Dropout(0.2)(x)\n",
    "x = Conv2D(64, 2, padding='same', activation='relu')(sequence_input)\n",
    "x = MaxPool2D(pool_size=(2, 2))(x)\n",
    "x = Dropout(0.2)(x)\n",
    "x = Flatten()(x)\n",
    "x = Dense(256, activation='relu')(x)\n",
    "pred = Dense(NUM_CLASSES, activation='softmax')(x)\n",
    "\n",
    "model = Model(sequence_input, pred)\n",
    "opt = optimizers.RMSprop()\n",
    "model.compile(loss='categorical_crossentropy', optimizer=opt, metrics=['accuracy'])\n",
    "\n",
    "# summarize the model\n",
    "print(model.summary())\n",
    "model.fit(train_batches,\n",
    "          epochs=5,\n",
    "          verbose=1,\n",
    "          validation_data=valid_batches)"
   ]
  },
  {
   "cell_type": "code",
   "execution_count": null,
   "metadata": {},
   "outputs": [],
   "source": []
  },
  {
   "cell_type": "code",
   "execution_count": null,
   "metadata": {},
   "outputs": [],
   "source": []
  }
 ],
 "metadata": {
  "colab": {
   "authorship_tag": "ABX9TyNucqpiyhhos+MS1kBcGJGp",
   "collapsed_sections": [],
   "mount_file_id": "1I3mYlyW5DKxTvIoNOzs538yCCETV0SzX",
   "name": "vgg16_try_first_learning.ipynb",
   "private_outputs": true,
   "provenance": []
  },
  "kernelspec": {
   "display_name": "Python 3",
   "language": "python",
   "name": "python3"
  },
  "language_info": {
   "codemirror_mode": {
    "name": "ipython",
    "version": 3
   },
   "file_extension": ".py",
   "mimetype": "text/x-python",
   "name": "python",
   "nbconvert_exporter": "python",
   "pygments_lexer": "ipython3",
   "version": "3.7.5"
  }
 },
 "nbformat": 4,
 "nbformat_minor": 1
}
